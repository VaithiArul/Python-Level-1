{
 "cells": [
  {
   "cell_type": "code",
   "execution_count": 12,
   "id": "a918e5e6",
   "metadata": {},
   "outputs": [
    {
     "name": "stdout",
     "output_type": "stream",
     "text": [
      "* \r\n",
      "* * \r\n",
      "* * * \r\n",
      "* * * * \r\n",
      "* * * * * \r\n"
     ]
    }
   ],
   "source": [
    "# To Print the Astrix\n",
    "def pypart(n):\n",
    "    for i in range(0, n):\n",
    "        for j in range(0, i+1):\n",
    "            print(\"* \",end=\"\")\n",
    "        print(\"\\r\")\n",
    "pypart(5)"
   ]
  },
  {
   "cell_type": "code",
   "execution_count": 13,
   "id": "d7917df3",
   "metadata": {},
   "outputs": [
    {
     "name": "stdout",
     "output_type": "stream",
     "text": [
      "Enter the string: Hi! Hello ! B****h\n",
      "Original string :  Hi! Hello ! B****h\n",
      "Characters removed string :  Hi Hello  Bh\n"
     ]
    }
   ],
   "source": [
    "# Program to remove characters from a string\n",
    "chars = [';', ':', '!', \"*\",'#']\n",
    "a = input(\"Enter the string: \")\n",
    "print (\"Original string : \" , a)\n",
    "for i in chars :\n",
    "    a = a.replace(i, '')\n",
    "print (\"Characters removed string : \" , str(a))"
   ]
  },
  {
   "cell_type": "code",
   "execution_count": 14,
   "id": "2712fd5e",
   "metadata": {},
   "outputs": [
    {
     "name": "stdout",
     "output_type": "stream",
     "text": [
      "The value is : 5\n",
      "The value is : 10\n",
      "The value is : 15\n"
     ]
    }
   ],
   "source": [
    "# Iterate the given list of numbers and print only those which are divisible by 5\n",
    "a = [1,2,3,4,5,6,7,8,9,10,11,12,13,14,15]\n",
    "for i in a:\n",
    "    if(i%5 == 0):\n",
    "        print(\"The value is :\",i)\n",
    "    else :\n",
    "        continue"
   ]
  },
  {
   "cell_type": "code",
   "execution_count": 15,
   "id": "60c69561",
   "metadata": {},
   "outputs": [
    {
     "name": "stdout",
     "output_type": "stream",
     "text": [
      "Enter the string:Hi hi Hi hi Hi\n",
      "Number of times the word 'Hi' is displayed in the given string :  3\n"
     ]
    }
   ],
   "source": [
    "# Find Number of times \"Hi\" is printed in a string\n",
    "a = input(\"Enter the string:\")\n",
    "b = \"Hi\"\n",
    "print(\"Number of times the word 'Hi' is displayed in the given string : \", a.count(b))        "
   ]
  },
  {
   "cell_type": "code",
   "execution_count": 16,
   "id": "c3b7a1df",
   "metadata": {},
   "outputs": [
    {
     "name": "stdout",
     "output_type": "stream",
     "text": [
      "\n",
      "1 \n",
      "2 2 \n",
      "3 3 3 \n",
      "4 4 4 4 \n",
      "5 5 5 5 5 \n"
     ]
    }
   ],
   "source": [
    "# Print the Following Pattern\n",
    "rows = 6\n",
    "for i in range(rows):\n",
    "    \n",
    "    for j in range(i):\n",
    "        print(i, end=' ')\n",
    "    print('')"
   ]
  },
  {
   "cell_type": "markdown",
   "id": "784737ac",
   "metadata": {},
   "source": [
    "# List Exercises:"
   ]
  },
  {
   "cell_type": "code",
   "execution_count": 19,
   "id": "5fdbd4b2",
   "metadata": {},
   "outputs": [
    {
     "name": "stdout",
     "output_type": "stream",
     "text": [
      "Before Interchanging: [1, 2, 3, 4, 5]\n",
      "After Interchanging:  [5, 2, 3, 4, 1]\n"
     ]
    }
   ],
   "source": [
    "# Interchanging First and Last element\n",
    "a = [1,2,3,4,5]\n",
    "print(\"Before Interchanging:\",a)\n",
    "x = a[0]\n",
    "y = a[-1]\n",
    "a.pop()\n",
    "del a[0]\n",
    "a.append(x)\n",
    "a.insert(0,y)\n",
    "print(\"After Interchanging: \",a)"
   ]
  },
  {
   "cell_type": "code",
   "execution_count": 20,
   "id": "b9b1174e",
   "metadata": {},
   "outputs": [
    {
     "name": "stdout",
     "output_type": "stream",
     "text": [
      "Enter element 1 : 1\n",
      "Enter element 2 : 5\n",
      "The list: [5, 2, 3, 4, 1]\n",
      "Swapped list: [1, 2, 3, 4, 5]\n"
     ]
    }
   ],
   "source": [
    "# Swap two elements in a list\n",
    "def swap(s1,pos1,pos2):\n",
    "    n = len(s1)\n",
    "    temp = s1[pos1]\n",
    "    s1[pos1] = s1[pos2]\n",
    "    s1[pos2] = temp\n",
    "    return s1\n",
    "a = [5,2,3,4,1]\n",
    "pos1 = int(input(\"Enter element 1 : \"))\n",
    "pos2 = int(input(\"Enter element 2 : \"))\n",
    "print(\"The list:\",a)\n",
    "print(\"Swapped list:\",swap(a,pos1-1,pos2-1))"
   ]
  },
  {
   "cell_type": "code",
   "execution_count": 21,
   "id": "62b6db28",
   "metadata": {},
   "outputs": [
    {
     "name": "stdout",
     "output_type": "stream",
     "text": [
      "The length of the list = 6\n"
     ]
    }
   ],
   "source": [
    "# Ways to find the length of list\n",
    "a = [1,2,3,4,5,6]\n",
    "b = a.__len__()\n",
    "print(\"The length of the list =\",b)"
   ]
  },
  {
   "cell_type": "code",
   "execution_count": 22,
   "id": "48158c16",
   "metadata": {},
   "outputs": [
    {
     "name": "stdout",
     "output_type": "stream",
     "text": [
      "Enter a : 3\n",
      "Enter b : 4\n",
      "Maximum = 4\n"
     ]
    }
   ],
   "source": [
    "# Maximum of two numbers\n",
    "def max(a, b):\n",
    "    if a >= b:\n",
    "        return a\n",
    "    else:\n",
    "        return b\n",
    "a = int(input(\"Enter a : \"))\n",
    "b = int(input(\"Enter b : \"))\n",
    "print(\"Maximum =\",max(a, b))"
   ]
  },
  {
   "cell_type": "code",
   "execution_count": 23,
   "id": "aeaf6103",
   "metadata": {},
   "outputs": [
    {
     "name": "stdout",
     "output_type": "stream",
     "text": [
      "Enter a : 4\n",
      "Enter b : 5\n",
      "Minimum = 4\n"
     ]
    }
   ],
   "source": [
    "# Minimum of two numbers \n",
    "def min(a, b):\n",
    "    if a <= b:\n",
    "        return a\n",
    "    else:\n",
    "        return b\n",
    "a = int(input(\"Enter a : \"))\n",
    "b = int(input(\"Enter b : \"))\n",
    "print(\"Minimum =\",min(a, b))"
   ]
  },
  {
   "cell_type": "markdown",
   "id": "d3efecd6",
   "metadata": {},
   "source": [
    "# String Exercises:"
   ]
  },
  {
   "cell_type": "code",
   "execution_count": 24,
   "id": "0f0491a9",
   "metadata": {},
   "outputs": [
    {
     "name": "stdout",
     "output_type": "stream",
     "text": [
      "Enter the string:hi hi hi\n",
      "The given string is Symmetrical\n"
     ]
    }
   ],
   "source": [
    "# Check the string whether it is Symmetrical or Palindrome\n",
    "a = input(\"Enter the string:\")\n",
    "x = a[::-1]\n",
    "if a==x:\n",
    "    print(\"The given string is Pallindrome\")\n",
    "else:\n",
    "    print(\"The given string is Symmetrical\")\n"
   ]
  },
  {
   "cell_type": "code",
   "execution_count": 25,
   "id": "e110e638",
   "metadata": {},
   "outputs": [
    {
     "name": "stdout",
     "output_type": "stream",
     "text": [
      "Enter the word: Hi Hello Welcome...\n",
      "...emocleW olleH iH\n"
     ]
    }
   ],
   "source": [
    "# Reverse Strings\n",
    "a = input(\"Enter the word: \")\n",
    "x = a[::-1]\n",
    "print(x)"
   ]
  },
  {
   "cell_type": "code",
   "execution_count": 26,
   "id": "81dd3f47",
   "metadata": {},
   "outputs": [
    {
     "name": "stdout",
     "output_type": "stream",
     "text": [
      "Enter the string: Hello\n",
      "Length =  5\n"
     ]
    }
   ],
   "source": [
    "# Find length of the string\n",
    "a = input(\"Enter the string: \")\n",
    "print(\"Length = \",len(a))"
   ]
  },
  {
   "cell_type": "markdown",
   "id": "e2a90df6",
   "metadata": {},
   "source": [
    "# Tuple Exercises:"
   ]
  },
  {
   "cell_type": "code",
   "execution_count": 27,
   "id": "33a5675e",
   "metadata": {},
   "outputs": [
    {
     "name": "stdout",
     "output_type": "stream",
     "text": [
      "72\n"
     ]
    }
   ],
   "source": [
    "# Size of the Tuple\n",
    "a = (1,2,3,4,5,6)\n",
    "b = a.__sizeof__()\n",
    "print(b)\n"
   ]
  },
  {
   "cell_type": "code",
   "execution_count": 1,
   "id": "2fdc7565",
   "metadata": {},
   "outputs": [
    {
     "name": "stdout",
     "output_type": "stream",
     "text": [
      "The Maximum element is  5\n",
      "The Minimum element is  1\n"
     ]
    }
   ],
   "source": [
    "# Max & Min elements in Tuple\n",
    "a = (1,2,3,4,5)\n",
    "x = max(a)\n",
    "y = min(a)\n",
    "print(\"The Maximum element is \",x)\n",
    "print(\"The Minimum element is \",y)"
   ]
  },
  {
   "cell_type": "code",
   "execution_count": 123,
   "id": "d2ccfbfc",
   "metadata": {},
   "outputs": [
    {
     "name": "stdout",
     "output_type": "stream",
     "text": [
      "The Sum of the Tuple is 15\n"
     ]
    }
   ],
   "source": [
    "# Sum of Tuple Elements\n",
    "a = (1,2,3,4,5)\n",
    "x = sum(a)\n",
    "print(\"The Sum of the Tuple is\",x)"
   ]
  },
  {
   "cell_type": "markdown",
   "id": "4618a0c1",
   "metadata": {},
   "source": [
    "# Dictionary Exercises:"
   ]
  },
  {
   "cell_type": "code",
   "execution_count": 63,
   "id": "2153a6cf",
   "metadata": {},
   "outputs": [
    {
     "name": "stdout",
     "output_type": "stream",
     "text": [
      "['key1', 'key2', 'key3', 'key4', 'key5']\n"
     ]
    }
   ],
   "source": [
    "# Sort Dictionaries by Key or Value\n",
    "a = {\"key1\":\"a\",\"key3\":\"b\",\"key2\":\"c\",\"key5\":\"d\",\"key4\":\"e\"}\n",
    "print(sorted(a))"
   ]
  },
  {
   "cell_type": "code",
   "execution_count": 6,
   "id": "8f0949f3",
   "metadata": {},
   "outputs": [
    {
     "name": "stdout",
     "output_type": "stream",
     "text": [
      "{(1, 2, 3): 'a', (4, 5, 6): 'b'}\n"
     ]
    }
   ],
   "source": [
    "# Dictionary with keys having multiple inputs\n",
    "import random as rn\n",
    "a = {}\n",
    "x,y,z = 1,2,3\n",
    "a[x,y,z] = \"a\";\n",
    "x,y,z = 4,5,6\n",
    "a[x,y,z] = \"b\";\n",
    "print(a)\n"
   ]
  },
  {
   "cell_type": "markdown",
   "id": "6209c19a",
   "metadata": {},
   "source": [
    "# Set Exercises:"
   ]
  },
  {
   "cell_type": "code",
   "execution_count": 4,
   "id": "fe478479",
   "metadata": {},
   "outputs": [
    {
     "name": "stdout",
     "output_type": "stream",
     "text": [
      "{1, 2, 3, 4, 5}\n",
      "Maximum = 5\n",
      "Minimum = 1\n"
     ]
    }
   ],
   "source": [
    "# Maximum and Minimum in a Set\n",
    "a = {1,2,3,4,5}\n",
    "print(a)\n",
    "print(\"Maximum =\",max(a))\n",
    "print(\"Minimum =\",min(a))"
   ]
  },
  {
   "cell_type": "code",
   "execution_count": 6,
   "id": "b003a6dc",
   "metadata": {},
   "outputs": [
    {
     "name": "stdout",
     "output_type": "stream",
     "text": [
      "456\n"
     ]
    }
   ],
   "source": [
    "# Size of a set\n",
    "a = {1,2,3,4,5,6}\n",
    "b = a.__sizeof__()\n",
    "print(b)"
   ]
  },
  {
   "cell_type": "markdown",
   "id": "41169998",
   "metadata": {},
   "source": [
    "# Matrix Exercises:"
   ]
  },
  {
   "cell_type": "code",
   "execution_count": 10,
   "id": "6b243091",
   "metadata": {},
   "outputs": [
    {
     "name": "stdout",
     "output_type": "stream",
     "text": [
      "The Original list :  [[1, 2, 3], [4, 5, 6], [7, 8, 9], [10, 11, 12]]\n",
      "The Assigned Matrix :  {1: [4, 5, 6], 2: [7, 8, 9], 3: [10, 11, 12]}\n"
     ]
    }
   ],
   "source": [
    "# Assigning Subsequent Rows to Matrix first row elements\n",
    "a = [[1, 2, 3], [4, 5, 6], [7, 8, 9], [10, 11, 12]]\n",
    "print(\"The Original list : \",str(a))\n",
    "b = {a[0][e] :  a[e + 1] for e in range(len(a) - 1)}\n",
    "print(\"The Assigned Matrix : \", str(b))"
   ]
  },
  {
   "cell_type": "code",
   "execution_count": 18,
   "id": "35ec7fed",
   "metadata": {},
   "outputs": [
    {
     "name": "stdout",
     "output_type": "stream",
     "text": [
      "A matrix:\n",
      "[[1 2]\n",
      " [3 4]]\n",
      "B matrix:\n",
      "[[4 5]\n",
      " [6 7]]\n",
      "Sum matrix:\n",
      "[[ 5  7]\n",
      " [ 9 11]]\n",
      "Difference Matrix:\n",
      "[[-3 -3]\n",
      " [-3 -3]]\n"
     ]
    }
   ],
   "source": [
    "# Adding and Subtracting Matrices in Python\n",
    "import numpy as np\n",
    "A = np.array([[1, 2], [3, 4]])\n",
    "B = np.array([[4, 5], [6, 7]])\n",
    "print(\"A matrix:\")\n",
    "print(A)\n",
    "print(\"B matrix:\")\n",
    "print(B)\n",
    "print(\"Sum matrix:\")\n",
    "print(np.add(A, B))\n",
    "print(\"Difference Matrix:\")\n",
    "print(np.subtract(A,B))"
   ]
  },
  {
   "cell_type": "markdown",
   "id": "3c47460d",
   "metadata": {},
   "source": [
    "# Functions Exercises:"
   ]
  },
  {
   "cell_type": "code",
   "execution_count": 20,
   "id": "62095453",
   "metadata": {},
   "outputs": [
    {
     "name": "stdout",
     "output_type": "stream",
     "text": [
      "Happy Birthday Arun Kutty \n"
     ]
    }
   ],
   "source": [
    "# Get multiple arguments using function\n",
    "def greeting(name,nickname):\n",
    "    print(\"Happy Birthday {} {} \".format(name,nickname))\n",
    "greeting(\"Arun\",\"Kutty\")"
   ]
  },
  {
   "cell_type": "code",
   "execution_count": 9,
   "id": "29f35737",
   "metadata": {},
   "outputs": [
    {
     "name": "stdout",
     "output_type": "stream",
     "text": [
      "(a, b)\n"
     ]
    }
   ],
   "source": [
    "# Get list of parameters name from a function \n",
    "def fun(a, b):\n",
    "    return a**b \n",
    "import inspect  \n",
    "print(inspect.signature(fun)) "
   ]
  }
 ],
 "metadata": {
  "kernelspec": {
   "display_name": "Python 3 (ipykernel)",
   "language": "python",
   "name": "python3"
  },
  "language_info": {
   "codemirror_mode": {
    "name": "ipython",
    "version": 3
   },
   "file_extension": ".py",
   "mimetype": "text/x-python",
   "name": "python",
   "nbconvert_exporter": "python",
   "pygments_lexer": "ipython3",
   "version": "3.9.12"
  }
 },
 "nbformat": 4,
 "nbformat_minor": 5
}
